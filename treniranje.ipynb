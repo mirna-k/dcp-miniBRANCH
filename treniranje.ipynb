{
  "nbformat": 4,
  "nbformat_minor": 0,
  "metadata": {
    "colab": {
      "provenance": [],
      "gpuType": "T4"
    },
    "kernelspec": {
      "name": "python3",
      "display_name": "Python 3"
    },
    "language_info": {
      "name": "python"
    },
    "accelerator": "GPU"
  },
  "cells": [
    {
      "cell_type": "markdown",
      "source": [
        "Kloniranje git repozitorija"
      ],
      "metadata": {
        "id": "P_auYTnHKsPc"
      }
    },
    {
      "cell_type": "code",
      "execution_count": 1,
      "metadata": {
        "colab": {
          "base_uri": "https://localhost:8080/"
        },
        "id": "X0VetymVKobR",
        "outputId": "4a50c737-ba7b-42c0-d622-1cb8035e77d0"
      },
      "outputs": [
        {
          "output_type": "stream",
          "name": "stdout",
          "text": [
            "Cloning into 'dcp-miniBRANCH'...\n",
            "remote: Enumerating objects: 31, done.\u001b[K\n",
            "remote: Counting objects: 100% (15/15), done.\u001b[K\n",
            "remote: Compressing objects: 100% (10/10), done.\u001b[K\n",
            "remote: Total 31 (delta 7), reused 8 (delta 5), pack-reused 16 (from 1)\u001b[K\n",
            "Receiving objects: 100% (31/31), 16.93 MiB | 17.41 MiB/s, done.\n",
            "Resolving deltas: 100% (13/13), done.\n",
            "/content/dcp-miniBRANCH\n"
          ]
        }
      ],
      "source": [
        "!git clone https://github.com/mirna-k/dcp-miniBRANCH.git\n",
        "%cd dcp-miniBRANCH\n"
      ]
    },
    {
      "cell_type": "markdown",
      "source": [
        "Ucitavanje ZIPa sa slikama drveca"
      ],
      "metadata": {
        "id": "EfGt4yj6Ky_5"
      }
    },
    {
      "cell_type": "code",
      "source": [
        "from google.colab import files\n",
        "uploaded = files.upload()\n"
      ],
      "metadata": {
        "colab": {
          "base_uri": "https://localhost:8080/",
          "height": 110
        },
        "id": "5B_zPTf-K1vp",
        "outputId": "adccd107-b6a5-4923-e8bb-a6560cf14cb1"
      },
      "execution_count": 2,
      "outputs": [
        {
          "output_type": "display_data",
          "data": {
            "text/plain": [
              "<IPython.core.display.HTML object>"
            ],
            "text/html": [
              "\n",
              "     <input type=\"file\" id=\"files-a36af70d-7620-46e1-9406-1d0da048aaf5\" name=\"files[]\" multiple disabled\n",
              "        style=\"border:none\" />\n",
              "     <output id=\"result-a36af70d-7620-46e1-9406-1d0da048aaf5\">\n",
              "      Upload widget is only available when the cell has been executed in the\n",
              "      current browser session. Please rerun this cell to enable.\n",
              "      </output>\n",
              "      <script>// Copyright 2017 Google LLC\n",
              "//\n",
              "// Licensed under the Apache License, Version 2.0 (the \"License\");\n",
              "// you may not use this file except in compliance with the License.\n",
              "// You may obtain a copy of the License at\n",
              "//\n",
              "//      http://www.apache.org/licenses/LICENSE-2.0\n",
              "//\n",
              "// Unless required by applicable law or agreed to in writing, software\n",
              "// distributed under the License is distributed on an \"AS IS\" BASIS,\n",
              "// WITHOUT WARRANTIES OR CONDITIONS OF ANY KIND, either express or implied.\n",
              "// See the License for the specific language governing permissions and\n",
              "// limitations under the License.\n",
              "\n",
              "/**\n",
              " * @fileoverview Helpers for google.colab Python module.\n",
              " */\n",
              "(function(scope) {\n",
              "function span(text, styleAttributes = {}) {\n",
              "  const element = document.createElement('span');\n",
              "  element.textContent = text;\n",
              "  for (const key of Object.keys(styleAttributes)) {\n",
              "    element.style[key] = styleAttributes[key];\n",
              "  }\n",
              "  return element;\n",
              "}\n",
              "\n",
              "// Max number of bytes which will be uploaded at a time.\n",
              "const MAX_PAYLOAD_SIZE = 100 * 1024;\n",
              "\n",
              "function _uploadFiles(inputId, outputId) {\n",
              "  const steps = uploadFilesStep(inputId, outputId);\n",
              "  const outputElement = document.getElementById(outputId);\n",
              "  // Cache steps on the outputElement to make it available for the next call\n",
              "  // to uploadFilesContinue from Python.\n",
              "  outputElement.steps = steps;\n",
              "\n",
              "  return _uploadFilesContinue(outputId);\n",
              "}\n",
              "\n",
              "// This is roughly an async generator (not supported in the browser yet),\n",
              "// where there are multiple asynchronous steps and the Python side is going\n",
              "// to poll for completion of each step.\n",
              "// This uses a Promise to block the python side on completion of each step,\n",
              "// then passes the result of the previous step as the input to the next step.\n",
              "function _uploadFilesContinue(outputId) {\n",
              "  const outputElement = document.getElementById(outputId);\n",
              "  const steps = outputElement.steps;\n",
              "\n",
              "  const next = steps.next(outputElement.lastPromiseValue);\n",
              "  return Promise.resolve(next.value.promise).then((value) => {\n",
              "    // Cache the last promise value to make it available to the next\n",
              "    // step of the generator.\n",
              "    outputElement.lastPromiseValue = value;\n",
              "    return next.value.response;\n",
              "  });\n",
              "}\n",
              "\n",
              "/**\n",
              " * Generator function which is called between each async step of the upload\n",
              " * process.\n",
              " * @param {string} inputId Element ID of the input file picker element.\n",
              " * @param {string} outputId Element ID of the output display.\n",
              " * @return {!Iterable<!Object>} Iterable of next steps.\n",
              " */\n",
              "function* uploadFilesStep(inputId, outputId) {\n",
              "  const inputElement = document.getElementById(inputId);\n",
              "  inputElement.disabled = false;\n",
              "\n",
              "  const outputElement = document.getElementById(outputId);\n",
              "  outputElement.innerHTML = '';\n",
              "\n",
              "  const pickedPromise = new Promise((resolve) => {\n",
              "    inputElement.addEventListener('change', (e) => {\n",
              "      resolve(e.target.files);\n",
              "    });\n",
              "  });\n",
              "\n",
              "  const cancel = document.createElement('button');\n",
              "  inputElement.parentElement.appendChild(cancel);\n",
              "  cancel.textContent = 'Cancel upload';\n",
              "  const cancelPromise = new Promise((resolve) => {\n",
              "    cancel.onclick = () => {\n",
              "      resolve(null);\n",
              "    };\n",
              "  });\n",
              "\n",
              "  // Wait for the user to pick the files.\n",
              "  const files = yield {\n",
              "    promise: Promise.race([pickedPromise, cancelPromise]),\n",
              "    response: {\n",
              "      action: 'starting',\n",
              "    }\n",
              "  };\n",
              "\n",
              "  cancel.remove();\n",
              "\n",
              "  // Disable the input element since further picks are not allowed.\n",
              "  inputElement.disabled = true;\n",
              "\n",
              "  if (!files) {\n",
              "    return {\n",
              "      response: {\n",
              "        action: 'complete',\n",
              "      }\n",
              "    };\n",
              "  }\n",
              "\n",
              "  for (const file of files) {\n",
              "    const li = document.createElement('li');\n",
              "    li.append(span(file.name, {fontWeight: 'bold'}));\n",
              "    li.append(span(\n",
              "        `(${file.type || 'n/a'}) - ${file.size} bytes, ` +\n",
              "        `last modified: ${\n",
              "            file.lastModifiedDate ? file.lastModifiedDate.toLocaleDateString() :\n",
              "                                    'n/a'} - `));\n",
              "    const percent = span('0% done');\n",
              "    li.appendChild(percent);\n",
              "\n",
              "    outputElement.appendChild(li);\n",
              "\n",
              "    const fileDataPromise = new Promise((resolve) => {\n",
              "      const reader = new FileReader();\n",
              "      reader.onload = (e) => {\n",
              "        resolve(e.target.result);\n",
              "      };\n",
              "      reader.readAsArrayBuffer(file);\n",
              "    });\n",
              "    // Wait for the data to be ready.\n",
              "    let fileData = yield {\n",
              "      promise: fileDataPromise,\n",
              "      response: {\n",
              "        action: 'continue',\n",
              "      }\n",
              "    };\n",
              "\n",
              "    // Use a chunked sending to avoid message size limits. See b/62115660.\n",
              "    let position = 0;\n",
              "    do {\n",
              "      const length = Math.min(fileData.byteLength - position, MAX_PAYLOAD_SIZE);\n",
              "      const chunk = new Uint8Array(fileData, position, length);\n",
              "      position += length;\n",
              "\n",
              "      const base64 = btoa(String.fromCharCode.apply(null, chunk));\n",
              "      yield {\n",
              "        response: {\n",
              "          action: 'append',\n",
              "          file: file.name,\n",
              "          data: base64,\n",
              "        },\n",
              "      };\n",
              "\n",
              "      let percentDone = fileData.byteLength === 0 ?\n",
              "          100 :\n",
              "          Math.round((position / fileData.byteLength) * 100);\n",
              "      percent.textContent = `${percentDone}% done`;\n",
              "\n",
              "    } while (position < fileData.byteLength);\n",
              "  }\n",
              "\n",
              "  // All done.\n",
              "  yield {\n",
              "    response: {\n",
              "      action: 'complete',\n",
              "    }\n",
              "  };\n",
              "}\n",
              "\n",
              "scope.google = scope.google || {};\n",
              "scope.google.colab = scope.google.colab || {};\n",
              "scope.google.colab._files = {\n",
              "  _uploadFiles,\n",
              "  _uploadFilesContinue,\n",
              "};\n",
              "})(self);\n",
              "</script> "
            ]
          },
          "metadata": {}
        },
        {
          "output_type": "stream",
          "name": "stdout",
          "text": [
            "Saving miniBRANCH-20250531T113842Z-1-001.zip to miniBRANCH-20250531T113842Z-1-001.zip\n"
          ]
        }
      ]
    },
    {
      "cell_type": "markdown",
      "source": [
        "Raspakirati ZIP file"
      ],
      "metadata": {
        "id": "xewWxVIRK60f"
      }
    },
    {
      "cell_type": "code",
      "source": [
        "import zipfile\n",
        "import os\n",
        "\n",
        "zip_filename = list(uploaded.keys())[0]\n",
        "\n",
        "# Raspakiraj u novu mapu\n",
        "with zipfile.ZipFile(zip_filename, 'r') as zip_ref:\n",
        "    zip_ref.extractall(\"miniBRANCH_data\")\n",
        "\n",
        "# Prikaži što se nalazi unutar\n",
        "!ls miniBRANCH_data\n"
      ],
      "metadata": {
        "colab": {
          "base_uri": "https://localhost:8080/"
        },
        "id": "JdBar8IKLtXD",
        "outputId": "76bbd079-bcac-4aca-f034-50cccf2fd6ac"
      },
      "execution_count": 3,
      "outputs": [
        {
          "output_type": "stream",
          "name": "stdout",
          "text": [
            "miniBRANCH\n"
          ]
        }
      ]
    },
    {
      "cell_type": "code",
      "source": [
        "# Prikazujemo sve mape unutar raspakiranog foldera\n",
        "!ls miniBRANCH_data/miniBRANCH\n"
      ],
      "metadata": {
        "colab": {
          "base_uri": "https://localhost:8080/"
        },
        "id": "7EPTELScL9By",
        "outputId": "e89c8f31-d84d-45a2-ff1e-1490021efc13"
      },
      "execution_count": 4,
      "outputs": [
        {
          "output_type": "stream",
          "name": "stdout",
          "text": [
            "tree_1_V_0001  tree_1_V_0009  tree_1_V_0011  tree_1_V_0012\n"
          ]
        }
      ]
    },
    {
      "cell_type": "markdown",
      "source": [
        "Ucitavanje podataka u miniBRANCH"
      ],
      "metadata": {
        "id": "BxAdimzZMKP0"
      }
    },
    {
      "cell_type": "code",
      "source": [
        "from data import miniBRANCH\n",
        "\n",
        "# Povezujemo na RGB i depth direktorije jednog stabla\n",
        "dataset = miniBRANCH(\n",
        "    rgb_dir='miniBRANCH_data/miniBRANCH/tree_1_V_0001/Filtered__noGrass/color',\n",
        "    depth_dir='miniBRANCH_data/miniBRANCH/tree_1_V_0001/Filtered__noGrass/depth',\n",
        "    num_points=1024,\n",
        "    partition='train'\n",
        ")\n",
        "\n",
        "# Test: učitaj prvi par oblaka točaka\n",
        "sample = dataset[0]\n",
        "pointcloud1, pointcloud2 = sample[0], sample[1]\n",
        "\n",
        "print(\"Oblik točaka - pointcloud1:\", pointcloud1.shape)\n",
        "print(\"Oblik točaka - pointcloud2:\", pointcloud2.shape)\n"
      ],
      "metadata": {
        "colab": {
          "base_uri": "https://localhost:8080/"
        },
        "id": "RZKyRy5hMQZn",
        "outputId": "3ea3d511-f0bc-4133-c741-17e122abbc93"
      },
      "execution_count": 5,
      "outputs": [
        {
          "output_type": "stream",
          "name": "stdout",
          "text": [
            "Oblik točaka - pointcloud1: (3, 1024)\n",
            "Oblik točaka - pointcloud2: (3, 1024)\n"
          ]
        }
      ]
    },
    {
      "cell_type": "markdown",
      "source": [
        "Treniranje modela"
      ],
      "metadata": {
        "id": "oZPMgSeQMw4R"
      }
    },
    {
      "cell_type": "code",
      "source": [
        "from model import DCP\n",
        "from torch.utils.data import DataLoader\n",
        "import torch.optim as optim\n",
        "import torch.nn.functional as F\n",
        "import torch\n",
        "\n",
        "# 1. Dataset i DataLoader\n",
        "train_dataset = miniBRANCH(\n",
        "    rgb_dir='miniBRANCH_data/miniBRANCH/tree_1_V_0001/Filtered__noGrass/color',\n",
        "    depth_dir='miniBRANCH_data/miniBRANCH/tree_1_V_0001/Filtered__noGrass/depth',\n",
        "    num_points=1024,\n",
        "    partition='train'\n",
        ")\n",
        "train_loader = DataLoader(train_dataset, batch_size=4, shuffle=True)\n",
        "\n",
        "# 2. Model\n",
        "class Args:\n",
        "    emb_dims = 512\n",
        "    emb_nn = 'pointnet'\n",
        "    pointer = 'transformer'\n",
        "    head = 'svd'\n",
        "    n_blocks = 1\n",
        "    n_heads = 4\n",
        "    ff_dims = 1024\n",
        "    dropout = 0.0\n",
        "    cycle = False\n",
        "\n",
        "args = Args()\n",
        "model = DCP(args).cuda()\n",
        "\n",
        "# 3. Optimizer\n",
        "optimizer = optim.Adam(model.parameters(), lr=0.001)\n",
        "\n",
        "\n",
        "loss_history = []\n",
        "\n",
        "\n",
        "# 4. Petlja za treniranje\n",
        "for epoch in range(50):\n",
        "    model.train()\n",
        "    total_loss = 0\n",
        "\n",
        "    for batch in train_loader:\n",
        "        src, tgt, R_gt, t_gt, _, _, _, _ = batch\n",
        "        src = src.cuda()\n",
        "        tgt = tgt.cuda()\n",
        "        R_gt = R_gt.cuda()\n",
        "        t_gt = t_gt.cuda()\n",
        "\n",
        "        optimizer.zero_grad()\n",
        "        R_pred, t_pred, _, _ = model(src, tgt)\n",
        "\n",
        "        identity = torch.eye(3).to(src.device).unsqueeze(0).repeat(src.size(0), 1, 1)\n",
        "        loss_r = F.mse_loss(torch.matmul(R_pred.transpose(2,1), R_gt), identity)\n",
        "        loss_t = F.mse_loss(t_pred, t_gt)\n",
        "        loss = loss_r + loss_t\n",
        "\n",
        "        loss.backward()\n",
        "        optimizer.step()\n",
        "\n",
        "        total_loss += loss.item()\n",
        "\n",
        "    loss_history.append(total_loss)\n",
        "\n",
        "    print(f\"[Epoch {epoch+1}] Loss: {total_loss:.4f}\")\n"
      ],
      "metadata": {
        "colab": {
          "base_uri": "https://localhost:8080/"
        },
        "id": "J9kTg63CMzw9",
        "outputId": "a21578f9-6068-4bab-de95-4170fa8d9334"
      },
      "execution_count": 9,
      "outputs": [
        {
          "output_type": "stream",
          "name": "stdout",
          "text": [
            "[Epoch 1] Loss: 7337.7834\n",
            "[Epoch 2] Loss: 2444.5350\n",
            "[Epoch 3] Loss: 1836.0922\n",
            "[Epoch 4] Loss: 227.9615\n",
            "[Epoch 5] Loss: 930.1016\n",
            "[Epoch 6] Loss: 177.7706\n",
            "[Epoch 7] Loss: 124.6158\n",
            "[Epoch 8] Loss: 186.4269\n",
            "[Epoch 9] Loss: 354.6655\n",
            "[Epoch 10] Loss: 566.6903\n",
            "[Epoch 11] Loss: 308.2832\n",
            "[Epoch 12] Loss: 89.4178\n",
            "[Epoch 13] Loss: 338.4357\n",
            "[Epoch 14] Loss: 203.2636\n",
            "[Epoch 15] Loss: 202.0172\n",
            "[Epoch 16] Loss: 268.1059\n",
            "[Epoch 17] Loss: 276.2194\n",
            "[Epoch 18] Loss: 184.3705\n",
            "[Epoch 19] Loss: 90.0378\n",
            "[Epoch 20] Loss: 157.1954\n",
            "[Epoch 21] Loss: 114.2567\n",
            "[Epoch 22] Loss: 55.9728\n",
            "[Epoch 23] Loss: 162.1809\n",
            "[Epoch 24] Loss: 221.7383\n",
            "[Epoch 25] Loss: 177.0547\n",
            "[Epoch 26] Loss: 104.4664\n",
            "[Epoch 27] Loss: 162.4659\n",
            "[Epoch 28] Loss: 106.7696\n",
            "[Epoch 29] Loss: 165.8851\n",
            "[Epoch 30] Loss: 117.8014\n",
            "[Epoch 31] Loss: 111.6477\n",
            "[Epoch 32] Loss: 293.3489\n",
            "[Epoch 33] Loss: 74.6469\n",
            "[Epoch 34] Loss: 150.9941\n",
            "[Epoch 35] Loss: 107.5249\n",
            "[Epoch 36] Loss: 221.5693\n",
            "[Epoch 37] Loss: 407.8184\n",
            "[Epoch 38] Loss: 183.9580\n",
            "[Epoch 39] Loss: 127.2417\n",
            "[Epoch 40] Loss: 224.4067\n",
            "[Epoch 41] Loss: 129.4937\n",
            "[Epoch 42] Loss: 96.8578\n",
            "[Epoch 43] Loss: 101.9529\n",
            "[Epoch 44] Loss: 115.3143\n",
            "[Epoch 45] Loss: 266.4727\n",
            "[Epoch 46] Loss: 108.4843\n",
            "[Epoch 47] Loss: 52.4493\n",
            "[Epoch 48] Loss: 43.8734\n",
            "[Epoch 49] Loss: 43.9473\n",
            "[Epoch 50] Loss: 54.1448\n"
          ]
        }
      ]
    },
    {
      "cell_type": "code",
      "source": [
        "torch.save(model.state_dict(), \"dcp_model.pth\")\n"
      ],
      "metadata": {
        "id": "6-D72dPYOQkI"
      },
      "execution_count": 11,
      "outputs": []
    },
    {
      "cell_type": "code",
      "source": [
        "import matplotlib.pyplot as plt\n",
        "\n",
        "plt.figure(figsize=(10, 5))\n",
        "plt.plot(loss_history, marker='o')\n",
        "plt.title('Loss po epohi')\n",
        "plt.xlabel('Epoh')\n",
        "plt.ylabel('Loss')\n",
        "plt.grid(True)\n",
        "plt.tight_layout()\n",
        "plt.show()\n"
      ],
      "metadata": {
        "colab": {
          "base_uri": "https://localhost:8080/",
          "height": 338
        },
        "id": "0iArnHFlO_Ym",
        "outputId": "27984b92-ae51-4c37-fcaf-50d37dc12da9"
      },
      "execution_count": 10,
      "outputs": [
        {
          "output_type": "display_data",
          "data": {
            "text/plain": [
              "<Figure size 1000x500 with 1 Axes>"
            ],
            "image/png": "[encoded data removed]"
          },
          "metadata": {}
        }
      ]
    },
    {
      "cell_type": "code",
      "source": [
        "plt.savefig(\"loss_graph.png\")\n"
      ],
      "metadata": {
        "colab": {
          "base_uri": "https://localhost:8080/",
          "height": 35
        },
        "id": "nNi9yZ82QZiS",
        "outputId": "31c96a77-f89e-4f84-b778-e3e36572038c"
      },
      "execution_count": 12,
      "outputs": [
        {
          "output_type": "display_data",
          "data": {
            "text/plain": [
              "<Figure size 640x480 with 0 Axes>"
            ]
          },
          "metadata": {}
        }
      ]
    }
  ]
}